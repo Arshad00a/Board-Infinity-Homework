{
  "nbformat": 4,
  "nbformat_minor": 0,
  "metadata": {
    "colab": {
      "name": "Lecture 3 Homework.ipynb",
      "provenance": [],
      "collapsed_sections": [],
      "authorship_tag": "ABX9TyOV+uP+qbLwn2kMvZSDMmdI",
      "include_colab_link": true
    },
    "kernelspec": {
      "name": "python3",
      "display_name": "Python 3"
    },
    "accelerator": "GPU"
  },
  "cells": [
    {
      "cell_type": "markdown",
      "metadata": {
        "id": "view-in-github",
        "colab_type": "text"
      },
      "source": [
        "<a href=\"https://colab.research.google.com/github/Arshad00a/Board-Infinity-Homework/blob/master/Lecture_3_Homework.ipynb\" target=\"_parent\"><img src=\"https://colab.research.google.com/assets/colab-badge.svg\" alt=\"Open In Colab\"/></a>"
      ]
    },
    {
      "cell_type": "markdown",
      "metadata": {
        "id": "HUXyuK7NJjjE",
        "colab_type": "text"
      },
      "source": [
        "# Installing pandas and numpy library"
      ]
    },
    {
      "cell_type": "code",
      "metadata": {
        "id": "MxRnRqTRJplY",
        "colab_type": "code",
        "outputId": "a625f296-4b74-48a9-dc60-360e627d8484",
        "colab": {
          "base_uri": "https://localhost:8080/",
          "height": 119
        }
      },
      "source": [
        "! pip install pandas\n",
        "! pip install numpy"
      ],
      "execution_count": 1,
      "outputs": [
        {
          "output_type": "stream",
          "text": [
            "Requirement already satisfied: pandas in /usr/local/lib/python3.6/dist-packages (0.25.3)\n",
            "Requirement already satisfied: python-dateutil>=2.6.1 in /usr/local/lib/python3.6/dist-packages (from pandas) (2.6.1)\n",
            "Requirement already satisfied: numpy>=1.13.3 in /usr/local/lib/python3.6/dist-packages (from pandas) (1.17.5)\n",
            "Requirement already satisfied: pytz>=2017.2 in /usr/local/lib/python3.6/dist-packages (from pandas) (2018.9)\n",
            "Requirement already satisfied: six>=1.5 in /usr/local/lib/python3.6/dist-packages (from python-dateutil>=2.6.1->pandas) (1.12.0)\n",
            "Requirement already satisfied: numpy in /usr/local/lib/python3.6/dist-packages (1.17.5)\n"
          ],
          "name": "stdout"
        }
      ]
    },
    {
      "cell_type": "code",
      "metadata": {
        "id": "Z3L0WBwiJv0W",
        "colab_type": "code",
        "outputId": "b8d6fb70-8645-4ee6-8f96-33286d2686b8",
        "colab": {
          "base_uri": "https://localhost:8080/",
          "height": 68
        }
      },
      "source": [
        "import numpy as np\n",
        "import pandas as pd\n",
        "Random_List = [23,45,787,90,21]\n",
        "Random_numpy = np.array(Random_List) # here comes Round bracket  np.array()\n",
        "print(Random_numpy)\n",
        "\n",
        "# print numpy array of 10  numbers and print its shape\n",
        "\n",
        "Random_numpy=np.append(Random_numpy,[1,3,5,7,9]) #np.append([Previous array in which u want to add,element which u want to append to previous array (new value)])\n",
        "print(Random_numpy)\n",
        "print(\"printing the shape \" ,Random_numpy.shape )"
      ],
      "execution_count": 2,
      "outputs": [
        {
          "output_type": "stream",
          "text": [
            "[ 23  45 787  90  21]\n",
            "[ 23  45 787  90  21   1   3   5   7   9]\n",
            "printing the shape  (10,)\n"
          ],
          "name": "stdout"
        }
      ]
    },
    {
      "cell_type": "code",
      "metadata": {
        "id": "p63sXZRbKxoF",
        "colab_type": "code",
        "outputId": "0e387bff-6409-4870-9677-942cf3945664",
        "colab": {
          "base_uri": "https://localhost:8080/",
          "height": 170
        }
      },
      "source": [
        "# make a array called numbers and multiply it by 10 and divide by 5 \n",
        "\n",
        "numbers=np.array([5,10,15,20,25])\n",
        "print(numbers)\n",
        "\n",
        "numbers=numbers * 10\n",
        "print(\"\\n Mutiplying the above array by 10 : \", numbers)\n",
        "\n",
        "numbers= numbers / 5\n",
        "print(\"\\n Dividing the resultant array by 5 : \",numbers)\n",
        "\n",
        "# Adding 25 to above array(numbers)\n",
        "\n",
        "numbers=np.append(numbers,[25])\n",
        "print(\"\\n Adding 25 to the above array : \",numbers)\n",
        "\n",
        "# Shape off the array(numbers)\n",
        "print(\"\\n Shape of the above array : \",numbers.shape)"
      ],
      "execution_count": 3,
      "outputs": [
        {
          "output_type": "stream",
          "text": [
            "[ 5 10 15 20 25]\n",
            "\n",
            " Mutiplying the above array by 10 :  [ 50 100 150 200 250]\n",
            "\n",
            " Dividing the resultant array by 5 :  [10. 20. 30. 40. 50.]\n",
            "\n",
            " Adding 25 to the above array :  [10. 20. 30. 40. 50. 25.]\n",
            "\n",
            " Shape of the above array :  (6,)\n"
          ],
          "name": "stdout"
        }
      ]
    },
    {
      "cell_type": "code",
      "metadata": {
        "id": "ZYLU7VK8NjNr",
        "colab_type": "code",
        "outputId": "886a9d76-cf2d-467d-9169-f21813e1feb2",
        "colab": {
          "base_uri": "https://localhost:8080/",
          "height": 204
        }
      },
      "source": [
        "# Make a numpy array called numbers_2 containing 10 elements and reshape it to (5,2)\n",
        "\n",
        "numbers_2=np.array([12,23,34,45,67,78,90,123,456,789])\n",
        "print(\"\\n shape of the above array : \",numbers_2.shape)\n",
        "\n",
        "numbers_2=numbers_2.reshape(5,2)\n",
        "print(\"\\n Reshaping the above array to 5,2 \\n\",numbers_2)\n",
        "print(\"\\n shape of above array is : \",numbers_2.shape)\n"
      ],
      "execution_count": 4,
      "outputs": [
        {
          "output_type": "stream",
          "text": [
            "\n",
            " shape of the above array :  (10,)\n",
            "\n",
            " Reshaping the above array to 5,2 \n",
            " [[ 12  23]\n",
            " [ 34  45]\n",
            " [ 67  78]\n",
            " [ 90 123]\n",
            " [456 789]]\n",
            "\n",
            " shape of above array is :  (5, 2)\n"
          ],
          "name": "stdout"
        }
      ]
    },
    {
      "cell_type": "code",
      "metadata": {
        "id": "Afz7kMgDRlbl",
        "colab_type": "code",
        "outputId": "dc570815-9ec8-42d5-ad76-8284a89eed07",
        "colab": {
          "base_uri": "https://localhost:8080/",
          "height": 119
        }
      },
      "source": [
        "# print the numpy array Between range 10 to 100\n",
        "\n",
        "between=np.arange(0,101)\n",
        "print(\"printing value from 0 to 100 : \",between) "
      ],
      "execution_count": 5,
      "outputs": [
        {
          "output_type": "stream",
          "text": [
            "printing value from 0 to 100 :  [  0   1   2   3   4   5   6   7   8   9  10  11  12  13  14  15  16  17\n",
            "  18  19  20  21  22  23  24  25  26  27  28  29  30  31  32  33  34  35\n",
            "  36  37  38  39  40  41  42  43  44  45  46  47  48  49  50  51  52  53\n",
            "  54  55  56  57  58  59  60  61  62  63  64  65  66  67  68  69  70  71\n",
            "  72  73  74  75  76  77  78  79  80  81  82  83  84  85  86  87  88  89\n",
            "  90  91  92  93  94  95  96  97  98  99 100]\n"
          ],
          "name": "stdout"
        }
      ]
    },
    {
      "cell_type": "code",
      "metadata": {
        "id": "018cBUJGSn-f",
        "colab_type": "code",
        "outputId": "75b771a2-26c7-4fcd-c1b7-721bb77ec624",
        "colab": {
          "base_uri": "https://localhost:8080/",
          "height": 153
        }
      },
      "source": [
        "# Array between 10 to 200 even number\n",
        "\n",
        "Even_No=np.arange(10,201,2)\n",
        "print(\"\\n printing the even number from range 10 to 200 : \\n \",Even_No)\n"
      ],
      "execution_count": 6,
      "outputs": [
        {
          "output_type": "stream",
          "text": [
            "\n",
            " printing the even number from range 10 to 200 : \n",
            "  [ 10  12  14  16  18  20  22  24  26  28  30  32  34  36  38  40  42  44\n",
            "  46  48  50  52  54  56  58  60  62  64  66  68  70  72  74  76  78  80\n",
            "  82  84  86  88  90  92  94  96  98 100 102 104 106 108 110 112 114 116\n",
            " 118 120 122 124 126 128 130 132 134 136 138 140 142 144 146 148 150 152\n",
            " 154 156 158 160 162 164 166 168 170 172 174 176 178 180 182 184 186 188\n",
            " 190 192 194 196 198 200]\n"
          ],
          "name": "stdout"
        }
      ]
    },
    {
      "cell_type": "code",
      "metadata": {
        "id": "hXrYurC8zbji",
        "colab_type": "code",
        "colab": {
          "resources": {
            "http://localhost:8080/nbextensions/google.colab/files.js": {
              "data": "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",
              "ok": true,
              "headers": [
                [
                  "content-type",
                  "application/javascript"
                ]
              ],
              "status": 200,
              "status_text": ""
            }
          },
          "base_uri": "https://localhost:8080/",
          "height": 74
        },
        "outputId": "7fe08ff9-15d9-42be-d331-b056c56c214c"
      },
      "source": [
        "# Importing data set \n",
        "\n",
        "from google.colab import files\n",
        "import io\n",
        "import pandas as pd\n",
        "#link='https://www.google.com/url?q=https://docs.google.com/spreadsheets/d/e/2PACX-1vRkBuDTd8RCydM72-uLD2nJh2fBEG7M1BpiY5P5qj2k1LhLISYTaBBgOGyMbpr2vVUGBUDy_iTfS0sZ/pub?output%3Dcsv&sa=D&source=hangouts&ust=1584021321033000&usg=AFQjCNEIsyAmmjnlgs_mloBKhu8heLZSfQ'\n",
        "data=files.upload()\n",
        "data=pd.read_csv(io.StringIO(data['train - train.csv'].decode('utf-8'))) "
      ],
      "execution_count": 28,
      "outputs": [
        {
          "output_type": "display_data",
          "data": {
            "text/html": [
              "\n",
              "     <input type=\"file\" id=\"files-2aa9c9e0-52eb-4191-bff4-51e71c13ce7f\" name=\"files[]\" multiple disabled />\n",
              "     <output id=\"result-2aa9c9e0-52eb-4191-bff4-51e71c13ce7f\">\n",
              "      Upload widget is only available when the cell has been executed in the\n",
              "      current browser session. Please rerun this cell to enable.\n",
              "      </output>\n",
              "      <script src=\"/nbextensions/google.colab/files.js\"></script> "
            ],
            "text/plain": [
              "<IPython.core.display.HTML object>"
            ]
          },
          "metadata": {
            "tags": []
          }
        },
        {
          "output_type": "stream",
          "text": [
            "Saving train - train.csv to train - train (45).csv\n"
          ],
          "name": "stdout"
        }
      ]
    },
    {
      "cell_type": "code",
      "metadata": {
        "id": "m57WGsK5Ty2c",
        "colab_type": "code",
        "outputId": "70b2a821-cd31-44dc-8432-bbb809514a8c",
        "colab": {
          "base_uri": "https://localhost:8080/",
          "height": 1000
        }
      },
      "source": [
        "# importing CSV Files\n",
        "\n",
        "#from google.colab import files\n",
        "#import io\n",
        "#import pandas as pd\n",
        "#link='https://www.google.com/url?q=https://docs.google.com/spreadsheets/d/e/2PACX-1vRkBuDTd8RCydM72-uLD2nJh2fBEG7M1BpiY5P5qj2k1LhLISYTaBBgOGyMbpr2vVUGBUDy_iTfS0sZ/pub?output%3Dcsv&sa=D&source=hangouts&ust=1584021321033000&usg=AFQjCNEIsyAmmjnlgs_mloBKhu8heLZSfQ'\n",
        "#data=files.upload()\n",
        "#data=pd.read_csv(io.StringIO(data['train - train.csv'].decode('utf-8')))\n",
        "\n",
        "\n",
        "print(\"\\nprinting the first 10 rows of the data\\n\")\n",
        "print(data.head())\n",
        "\n",
        "#Make a additional column called Random age and assign 10 times the original age\n",
        "print(\" \\n Additioal column called Random age and assign 10 times the original age \\n\")\n",
        "data['Random_age']=data['Age'] * 10\n",
        "print(data.head(10)) \n",
        "print('\\n')\n",
        "\n",
        "# print the 10 rows of columns \"Age\" and \"Random Age\"\n",
        "print(\"\\n printing the first 10 rows of columns Age and Random Age \\n\")\n",
        "Age_Columns=data[['Age','Random_age']].head(10)\n",
        "print(Age_Columns)\n",
        "\n",
        "print('\\n')\n",
        "\n",
        "#Des_claim=data[['Destination','Claim']].head(10)\n",
        "#print(Des_claim)\n",
        "\n",
        "#Temp_data=data.groupby('Destination')['Claim','Age'].sum()\n",
        "#Temp_data\n",
        "#counts=data['Destination'].value_counts()\n",
        "#print(counts)\n",
        "\n",
        "\n",
        "# Value counts of following column \"Destination\",\"Claim\",\"Agenct Type\"\n",
        "\n",
        "Descount=data['Destination'].value_counts()\n",
        "AgencyCount=data['Agency'].value_counts()\n",
        "AgtypeCount=data['Agency Type'].value_counts()\n",
        "\n",
        "print(\"\\nDestination \\n = \",Descount,\"\\nAgency \\n = \",AgencyCount,\"\\nAgency Type \\n = \",AgtypeCount)\n",
        "print('\\n \\n ')\n",
        "\n",
        "# We can also do this by doing groupby in one statement using size()\n",
        "\n",
        "print(\" We can also do this by doing groupby in one statement using size()\")\n",
        "size=data.groupby(['Destination','Agency','Agency Type']).size()\n",
        "print(size)\n",
        "\n",
        "print('\\n')\n",
        "\n",
        "# Pie Diagram of Agency Type\n",
        "\n",
        "print(\"\\n Pie Diagram of Destination \\n\")\n",
        "data['Agency Type'].value_counts().head(10).plot(kind='pie',legend=True)\n"
      ],
      "execution_count": 107,
      "outputs": [
        {
          "output_type": "stream",
          "text": [
            "\n",
            "printing the first 10 rows of the data\n",
            "\n",
            "     ID Agency    Agency Type  ... Age Claim  Random_age\n",
            "0  2010    EPX  Travel Agency  ...  41     0         410\n",
            "1  4245    EPX  Travel Agency  ...  35     0         350\n",
            "2  9251    CWT  Travel Agency  ...  47     0         470\n",
            "3  4754    EPX  Travel Agency  ...  48     0         480\n",
            "4  8840    EPX  Travel Agency  ...  36     0         360\n",
            "\n",
            "[5 rows x 12 columns]\n",
            " \n",
            " Additioal column called Random age and assign 10 times the original age \n",
            "\n",
            "     ID Agency    Agency Type  ... Age Claim  Random_age\n",
            "0  2010    EPX  Travel Agency  ...  41     0         410\n",
            "1  4245    EPX  Travel Agency  ...  35     0         350\n",
            "2  9251    CWT  Travel Agency  ...  47     0         470\n",
            "3  4754    EPX  Travel Agency  ...  48     0         480\n",
            "4  8840    EPX  Travel Agency  ...  36     0         360\n",
            "5  5959    EPX  Travel Agency  ...  38     0         380\n",
            "6  6031    EPX  Travel Agency  ...  36     0         360\n",
            "7  8394    JZI       Airlines  ...  43     0         430\n",
            "8  3017    EPX  Travel Agency  ...  36     1         360\n",
            "9  8054    C2B       Airlines  ...  28     1         280\n",
            "\n",
            "[10 rows x 12 columns]\n",
            "\n",
            "\n",
            "\n",
            " printing the first 10 rows of columns Age and Random Age \n",
            "\n",
            "   Age  Random_age\n",
            "0   41         410\n",
            "1   35         350\n",
            "2   47         470\n",
            "3   48         480\n",
            "4   36         360\n",
            "5   38         380\n",
            "6   36         360\n",
            "7   43         430\n",
            "8   36         360\n",
            "9   28         280\n",
            "\n",
            "\n",
            "\n",
            "Destination \n",
            " =  SINGAPORE       14242\n",
            "THAILAND         4562\n",
            "MALAYSIA         4359\n",
            "CHINA            3909\n",
            "AUSTRALIA        3011\n",
            "                ...  \n",
            "BHUTAN              2\n",
            "BERMUDA             2\n",
            "BELARUS             2\n",
            "ZAMBIA              1\n",
            "TURKMENISTAN        1\n",
            "Name: Destination, Length: 97, dtype: int64 \n",
            "Agency \n",
            " =  EPX    26218\n",
            "C2B    10615\n",
            "CWT     6813\n",
            "JZI     4619\n",
            "LWC      806\n",
            "SSI      780\n",
            "JWT      550\n",
            "RAB      527\n",
            "TST      394\n",
            "KML      313\n",
            "ART      223\n",
            "CCR      156\n",
            "TTW      104\n",
            "CBH       76\n",
            "CSR       60\n",
            "ADM       56\n",
            "Name: Agency, dtype: int64 \n",
            "Agency Type \n",
            " =  Travel Agency    34996\n",
            "Airlines         17314\n",
            "Name: Agency Type, dtype: int64\n",
            "\n",
            " \n",
            " \n",
            " We can also do this by doing groupby in one statement using size()\n",
            "Destination  Agency  Agency Type  \n",
            "ARGENTINA    CWT     Travel Agency       1\n",
            "             EPX     Travel Agency       9\n",
            "             LWC     Travel Agency       2\n",
            "AUSTRALIA    CWT     Travel Agency    2111\n",
            "             EPX     Travel Agency     722\n",
            "                                      ... \n",
            "VIET NAM     ART     Airlines            7\n",
            "             EPX     Travel Agency     987\n",
            "             JZI     Airlines          203\n",
            "             LWC     Travel Agency       8\n",
            "ZAMBIA       EPX     Travel Agency       1\n",
            "Length: 328, dtype: int64\n",
            "\n",
            "\n",
            "\n",
            " Pie Diagram of Destination \n",
            "\n"
          ],
          "name": "stdout"
        },
        {
          "output_type": "execute_result",
          "data": {
            "text/plain": [
              "<matplotlib.axes._subplots.AxesSubplot at 0x7fb50fd7d7f0>"
            ]
          },
          "metadata": {
            "tags": []
          },
          "execution_count": 107
        },
        {
          "output_type": "display_data",
          "data": {
            "image/png": "[encoded data removed]",
            "text/plain": [
              "<Figure size 432x288 with 1 Axes>"
            ]
          },
          "metadata": {
            "tags": []
          }
        }
      ]
    },
    {
      "cell_type": "code",
      "metadata": {
        "id": "X4i9VPDwqmhI",
        "colab_type": "code",
        "colab": {
          "base_uri": "https://localhost:8080/",
          "height": 402
        },
        "outputId": "785004b6-f579-4c4f-f9b1-eeb86d22e9c5"
      },
      "source": [
        "# printing Bar Diagram of Destination\n",
        "print(\"\\n printing Bar Diagram of Destination \\n\")\n",
        "data['Destination'].value_counts().head(10).plot(kind='bar',legend=True)"
      ],
      "execution_count": 106,
      "outputs": [
        {
          "output_type": "stream",
          "text": [
            "\n",
            " printing Bar Diagram of Destination \n",
            "\n"
          ],
          "name": "stdout"
        },
        {
          "output_type": "execute_result",
          "data": {
            "text/plain": [
              "<matplotlib.axes._subplots.AxesSubplot at 0x7fb5101c14a8>"
            ]
          },
          "metadata": {
            "tags": []
          },
          "execution_count": 106
        },
        {
          "output_type": "display_data",
          "data": {
            "image/png": "[encoded data removed]",
            "text/plain": [
              "<Figure size 432x288 with 1 Axes>"
            ]
          },
          "metadata": {
            "tags": []
          }
        }
      ]
    },
    {
      "cell_type": "code",
      "metadata": {
        "id": "C8JGXqzDUqDR",
        "colab_type": "code",
        "colab": {
          "base_uri": "https://localhost:8080/",
          "height": 599
        },
        "outputId": "52738fce-4269-4002-933f-86729c990bfa"
      },
      "source": [
        "# plotting Destination in which customer age is less than 25 \n",
        "\n",
        "print(\"\\n Bar graph of Destinaiton of customer only of the age 25 \\n \")\n",
        "\n",
        "#print(\"\\n Printing Both the Columns \\n\")\n",
        "#print(data[['Destination','Age']].head())\n",
        "\n",
        "#data.groupby('Destination')['Age'].value_counts().head().plot(kind='bar',legend=True)\n",
        "#data[data['Age'].isin([25,35,45])]['Age'].value_counts().plot(kind='bar')\n",
        "#data['Destination'].value_counts().head(10).plot(kind='bar',legend=True)\n",
        "\n",
        "\n",
        "data[data['Age'].isin([25])]['Destination'].value_counts().head().plot(kind='bar',legend=True)\n",
        "\n",
        "check= data[data['Age'].isin([25])]['Destination'].value_counts().head()\n",
        "\n",
        "print(\"\\n Customer Destination based on Age 25 \\n\")\n",
        "\n",
        "print(check)\n",
        "\n",
        "print(\"\\n\")\n",
        "\n",
        "#x=data[data['Age']>25]['Destination'].value_counts().head().plot(kind=\"bar\",legend=True)\n",
        "#print(x)"
      ],
      "execution_count": 105,
      "outputs": [
        {
          "output_type": "stream",
          "text": [
            "\n",
            " Bar graph of Destinaiton of customer only of the age 25 \n",
            " \n",
            "\n",
            " Customer Destination based on Age 25 \n",
            "\n",
            "SINGAPORE             370\n",
            "MALAYSIA               47\n",
            "THAILAND               46\n",
            "UNITED STATES          39\n",
            "KOREA, REPUBLIC OF     30\n",
            "Name: Destination, dtype: int64\n",
            "\n",
            "\n"
          ],
          "name": "stdout"
        },
        {
          "output_type": "display_data",
          "data": {
            "image/png": "[encoded data removed]",
            "text/plain": [
              "<Figure size 432x288 with 1 Axes>"
            ]
          },
          "metadata": {
            "tags": []
          }
        }
      ]
    },
    {
      "cell_type": "code",
      "metadata": {
        "id": "o36Zb1xKS4D0",
        "colab_type": "code",
        "colab": {}
      },
      "source": [
        ""
      ],
      "execution_count": 0,
      "outputs": []
    }
  ]
}