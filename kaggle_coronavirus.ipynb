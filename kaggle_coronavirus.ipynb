{
  "nbformat": 4,
  "nbformat_minor": 0,
  "metadata": {
    "colab": {
      "name": "kaggle  coronavirus.ipynb",
      "provenance": [],
      "authorship_tag": "ABX9TyM6IoS3QDKlIyOaAx51N2wy",
      "include_colab_link": true
    },
    "kernelspec": {
      "name": "python3",
      "display_name": "Python 3"
    },
    "accelerator": "GPU"
  },
  "cells": [
    {
      "cell_type": "markdown",
      "metadata": {
        "id": "view-in-github",
        "colab_type": "text"
      },
      "source": [
        "<a href=\"https://colab.research.google.com/github/Arshad00a/Board-Infinity-Homework/blob/master/kaggle_coronavirus.ipynb\" target=\"_parent\"><img src=\"https://colab.research.google.com/assets/colab-badge.svg\" alt=\"Open In Colab\"/></a>"
      ]
    },
    {
      "cell_type": "code",
      "metadata": {
        "id": "QJXsHO_HTo3m",
        "colab_type": "code",
        "outputId": "f522db50-3fbc-450f-9d23-efc60deccb14",
        "colab": {
          "resources": {
            "http://localhost:8080/nbextensions/google.colab/files.js": {
              "data": "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",
              "ok": true,
              "headers": [
                [
                  "content-type",
                  "application/javascript"
                ]
              ],
              "status": 200,
              "status_text": ""
            }
          },
          "base_uri": "https://localhost:8080/",
          "height": 1000
        }
      },
      "source": [
        "from google.colab import files\n",
        "import io\n",
        "import numpy as np\n",
        "import pandas as pd\n",
        "import matplotlib.pyplot as plt\n",
        "\n",
        "data=files.upload()\n",
        "data=pd.read_csv(io.StringIO(data[\"covid_19_data.csv\"].decode(\"utf-8\")))\n",
        "print(\"\\nprinting the first 10 values of data\\n\",data.head(10))\n",
        "print(\"\\nprinting no of rows and columns of data\",data.shape)\n",
        "print(\"\\nprinting all columns with names\\n\",data.columns)\n",
        "print('\\n \\n')\n",
        "#print(\"\\n printing first 10 data of country/Region \\n\",data['Country/Region'].head(10))\n",
        "#print(data[data['Country/Region'].isin(['Mainland China'])].head(5))\n",
        "\n",
        "print(\"\\n printing the last 10 data to see when data set was last upadated \\n\")\n",
        "print(data.tail(10))\n",
        "#data.style.background_gradient(cmap='PRGn')\n",
        "print(\"\\n\")\n",
        "\n",
        "data=data.drop(['SNo', 'Last Update'], axis=1)\n",
        "print(\"checking Whether the columns is del or not -: \",data.columns)\n",
        "data=data.rename(columns={'Country/Region':'Country','ObservationDate':'Date'})\n",
        "print(\"checking Wheather the data is rename or not -: \\n\", data.head())\n",
        "data.isnull().sum() # to check all the null values  ... checking each and every columns for null values (NaN)\n",
        "\n",
        "Temp_data= data.groupby('Date')['Confirmed','Deaths','Recovered'].sum()\n",
        "#print(Temp_data)\n",
        "Temp_data=Temp_data.reset_index()\n",
        "#print(Temp_data)\n",
        "Temp_data=Temp_data.sort_values('Date',ascending=False)\n",
        "#print(Temp_data)\n",
        "Temp_data['Under Treatment']=Temp_data['Confirmed'] - (Temp_data['Deaths'] + Temp_data['Recovered'])\n",
        "print('\\n \\n')\n",
        "print(Temp_data)"
      ],
      "execution_count": 0,
      "outputs": [
        {
          "output_type": "display_data",
          "data": {
            "text/html": [
              "\n",
              "     <input type=\"file\" id=\"files-defe3764-01cb-4615-9b34-8d5d74beca19\" name=\"files[]\" multiple disabled />\n",
              "     <output id=\"result-defe3764-01cb-4615-9b34-8d5d74beca19\">\n",
              "      Upload widget is only available when the cell has been executed in the\n",
              "      current browser session. Please rerun this cell to enable.\n",
              "      </output>\n",
              "      <script src=\"/nbextensions/google.colab/files.js\"></script> "
            ],
            "text/plain": [
              "<IPython.core.display.HTML object>"
            ]
          },
          "metadata": {
            "tags": []
          }
        },
        {
          "output_type": "stream",
          "text": [
            "Saving covid_19_data.csv to covid_19_data (38).csv\n",
            "\n",
            "printing the first 10 values of data\n",
            "    SNo ObservationDate Province/State  ... Confirmed Deaths  Recovered\n",
            "0    1      01/22/2020          Anhui  ...       1.0    0.0        0.0\n",
            "1    2      01/22/2020        Beijing  ...      14.0    0.0        0.0\n",
            "2    3      01/22/2020      Chongqing  ...       6.0    0.0        0.0\n",
            "3    4      01/22/2020         Fujian  ...       1.0    0.0        0.0\n",
            "4    5      01/22/2020          Gansu  ...       0.0    0.0        0.0\n",
            "5    6      01/22/2020      Guangdong  ...      26.0    0.0        0.0\n",
            "6    7      01/22/2020        Guangxi  ...       2.0    0.0        0.0\n",
            "7    8      01/22/2020        Guizhou  ...       1.0    0.0        0.0\n",
            "8    9      01/22/2020         Hainan  ...       4.0    0.0        0.0\n",
            "9   10      01/22/2020          Hebei  ...       1.0    0.0        0.0\n",
            "\n",
            "[10 rows x 8 columns]\n",
            "\n",
            "printing no of rows and columns of data (3395, 8)\n",
            "\n",
            "printing all columns with names\n",
            " Index(['SNo', 'ObservationDate', 'Province/State', 'Country/Region',\n",
            "       'Last Update', 'Confirmed', 'Deaths', 'Recovered'],\n",
            "      dtype='object')\n",
            "\n",
            " \n",
            "\n",
            "\n",
            " printing the last 10 data to see when data set was last upadated \n",
            "\n",
            "       SNo ObservationDate  ... Deaths Recovered\n",
            "3385  3386      03/04/2020  ...    0.0       0.0\n",
            "3386  3387      03/04/2020  ...    0.0       0.0\n",
            "3387  3388      03/04/2020  ...    0.0       1.0\n",
            "3388  3389      03/04/2020  ...    0.0       0.0\n",
            "3389  3390      03/04/2020  ...    0.0       0.0\n",
            "3390  3391      03/04/2020  ...    0.0       0.0\n",
            "3391  3392      03/04/2020  ...    0.0       0.0\n",
            "3392  3393      03/04/2020  ...    0.0       0.0\n",
            "3393  3394      03/04/2020  ...    0.0       0.0\n",
            "3394  3395      03/04/2020  ...    0.0       0.0\n",
            "\n",
            "[10 rows x 8 columns]\n",
            "\n",
            "\n",
            "checking Whether the columns is del or not -:  Index(['ObservationDate', 'Province/State', 'Country/Region', 'Confirmed',\n",
            "       'Deaths', 'Recovered'],\n",
            "      dtype='object')\n",
            "checking Wheather the data is rename or not -: \n",
            "          Date Province/State         Country  Confirmed  Deaths  Recovered\n",
            "0  01/22/2020          Anhui  Mainland China        1.0     0.0        0.0\n",
            "1  01/22/2020        Beijing  Mainland China       14.0     0.0        0.0\n",
            "2  01/22/2020      Chongqing  Mainland China        6.0     0.0        0.0\n",
            "3  01/22/2020         Fujian  Mainland China        1.0     0.0        0.0\n",
            "4  01/22/2020          Gansu  Mainland China        0.0     0.0        0.0\n",
            "          Date  Confirmed  Deaths  Recovered  Under Treatment\n",
            "42  03/04/2020    95124.0  3254.0    51171.0          40699.0\n",
            "41  03/03/2020    92844.0  3160.0    48229.0          41455.0\n",
            "40  03/02/2020    90309.0  3085.0    45602.0          41622.0\n",
            "39  03/01/2020    88371.0  2996.0    42716.0          42659.0\n",
            "38  02/29/2020    86013.0  2941.0    39782.0          43290.0\n",
            "37  02/28/2020    84124.0  2872.0    36711.0          44541.0\n",
            "36  02/27/2020    82756.0  2814.0    33277.0          46665.0\n",
            "35  02/26/2020    81397.0  2770.0    30384.0          48243.0\n",
            "34  02/25/2020    80415.0  2708.0    27905.0          49802.0\n",
            "33  02/24/2020    79570.0  2629.0    25227.0          51714.0\n",
            "32  02/23/2020    78985.0  2469.0    23394.0          53122.0\n",
            "31  02/22/2020    78599.0  2458.0    22886.0          53255.0\n",
            "30  02/21/2020    76843.0  2251.0    18890.0          55702.0\n",
            "29  02/20/2020    76199.0  2247.0    18177.0          55775.0\n",
            "28  02/19/2020    75641.0  2122.0    16121.0          57398.0\n",
            "27  02/18/2020    75138.0  2007.0    14352.0          58779.0\n",
            "26  02/17/2020    73260.0  1868.0    12583.0          58809.0\n",
            "25  02/16/2020    71226.0  1770.0    10865.0          58591.0\n",
            "24  02/15/2020    69032.0  1666.0     9395.0          57971.0\n",
            "23  02/14/2020    66887.0  1523.0     8058.0          57306.0\n",
            "22  02/13/2020    60370.0  1371.0     6295.0          52704.0\n",
            "21  02/12/2020    45222.0  1118.0     5150.0          38954.0\n",
            "20  02/11/2020    44803.0  1113.0     4683.0          39007.0\n",
            "19  02/10/2020    42763.0  1013.0     3946.0          37804.0\n",
            "18  02/09/2020    40151.0   906.0     3244.0          36001.0\n",
            "17  02/08/2020    37121.0   806.0     2616.0          33699.0\n",
            "16  02/07/2020    34392.0   719.0     2011.0          31662.0\n",
            "15  02/06/2020    30818.0   634.0     1487.0          28697.0\n",
            "14  02/05/2020    27636.0   564.0     1124.0          25948.0\n",
            "13  02/04/2020    23892.0   492.0      852.0          22548.0\n",
            "12  02/03/2020    19881.0   426.0      623.0          18832.0\n",
            "11  02/02/2020    16787.0   362.0      472.0          15953.0\n",
            "10  02/01/2020    12038.0   259.0      284.0          11495.0\n",
            "9   01/31/2020     9925.0   213.0      222.0           9490.0\n",
            "8   01/30/2020     8235.0   171.0      143.0           7921.0\n",
            "7   01/29/2020     6165.0   133.0      126.0           5906.0\n",
            "6   01/28/2020     5578.0   131.0      107.0           5340.0\n",
            "5   01/27/2020     2927.0    82.0       61.0           2784.0\n",
            "4   01/26/2020     2118.0    56.0       52.0           2010.0\n",
            "3   01/25/2020     1438.0    42.0       39.0           1357.0\n",
            "2   01/24/2020      941.0    26.0       36.0            879.0\n",
            "1   01/23/2020      653.0    18.0       30.0            605.0\n",
            "0   01/22/2020      555.0    17.0       28.0            510.0\n"
          ],
          "name": "stdout"
        }
      ]
    },
    {
      "cell_type": "code",
      "metadata": {
        "id": "YT-tccL4Ur35",
        "colab_type": "code",
        "colab": {}
      },
      "source": [
        ""
      ],
      "execution_count": 0,
      "outputs": []
    }
  ]
}