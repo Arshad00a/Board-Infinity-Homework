{
  "nbformat": 4,
  "nbformat_minor": 0,
  "metadata": {
    "colab": {
      "name": "python Homework 2.ipynb",
      "provenance": [],
      "collapsed_sections": [],
      "authorship_tag": "ABX9TyOpL5JY98UANWCsF2n4uMo3",
      "include_colab_link": true
    },
    "kernelspec": {
      "name": "python3",
      "display_name": "Python 3"
    }
  },
  "cells": [
    {
      "cell_type": "markdown",
      "metadata": {
        "id": "view-in-github",
        "colab_type": "text"
      },
      "source": [
        "<a href=\"https://colab.research.google.com/github/Arshad00a/Board-Infinity-Homework/blob/master/python_Homework_2.ipynb\" target=\"_parent\"><img src=\"https://colab.research.google.com/assets/colab-badge.svg\" alt=\"Open In Colab\"/></a>"
      ]
    },
    {
      "cell_type": "markdown",
      "metadata": {
        "id": "0pd2nlyiCcq6",
        "colab_type": "text"
      },
      "source": [
        "#Task 1"
      ]
    },
    {
      "cell_type": "code",
      "metadata": {
        "id": "s92_L4SzCecl",
        "colab_type": "code",
        "colab": {
          "base_uri": "https://localhost:8080/",
          "height": 51
        },
        "outputId": "9863e166-a4a6-4b53-de6a-0367740cfaa1"
      },
      "source": [
        "#Task 1.1\n",
        "\n",
        "# Asking User his/her Age \n",
        "\n",
        "Age=int (input(\"Enter your Age :\"))\n",
        "if(Age>18):\n",
        "  print(\"Adult\")\n",
        "else:\n",
        "  print(\"Teenager\")"
      ],
      "execution_count": 1,
      "outputs": [
        {
          "output_type": "stream",
          "text": [
            "Enter your Age :7\n",
            "Teenager\n"
          ],
          "name": "stdout"
        }
      ]
    },
    {
      "cell_type": "code",
      "metadata": {
        "colab_type": "code",
        "outputId": "9b8ddc30-0f19-40f0-c78a-86c4f49d496e",
        "id": "rNUOd4c9I2cL",
        "colab": {
          "base_uri": "https://localhost:8080/",
          "height": 68
        }
      },
      "source": [
        "# Task 1.2\n",
        "\n",
        "# Personal loan approving system\n",
        "\n",
        "Monthly_income= int(input(\"Enter your monthly income :\"))\n",
        "\n",
        "\n",
        "if(Monthly_income > 100000):\n",
        " Ongoing_loan=str(input(\"Is there any Ongoing loan :\"))\n",
        "\n",
        " if(Ongoing_loan==\"yes\"):\n",
        "  print(\"Sorry u are not eligible for loan\")\n",
        "\n",
        " elif(Ongoing_loan==\"no\"):\n",
        "  print(\"Congrates u r eligible for loan\")\n",
        "\n",
        " else:\n",
        "  print(\"Please Enter a valid answer\")\n",
        "\n",
        "else:\n",
        "  print(\"Sorry u r not eligible for loan Your income is less than 100000\")    "
      ],
      "execution_count": 2,
      "outputs": [
        {
          "output_type": "stream",
          "text": [
            "Enter your monthly income :90909090\n",
            "Is there any Ongoing loan :no\n",
            "Congrates u r eligible for loan\n"
          ],
          "name": "stdout"
        }
      ]
    },
    {
      "cell_type": "code",
      "metadata": {
        "id": "VEk6nrPBDbpQ",
        "colab_type": "code",
        "colab": {
          "base_uri": "https://localhost:8080/",
          "height": 51
        },
        "outputId": "178b3e0a-256f-4b73-ff63-6feb8a5db4eb"
      },
      "source": [
        "# Task 1.3\n",
        "\n",
        "# Ask user female yes --> no\n",
        "\n",
        "Gender = str (input(\"Enter your gender: \"))\n",
        "if(Gender ==\"female\"):\n",
        "  print(\"You are a girl\")\n",
        "elif(Gender == \"male\"):\n",
        "  print(\"Your a boy\")\n",
        "else:\n",
        "  print(\"please enter valid Gender\")\n"
      ],
      "execution_count": 3,
      "outputs": [
        {
          "output_type": "stream",
          "text": [
            "Enter your gender: male\n",
            "Your a boy\n"
          ],
          "name": "stdout"
        }
      ]
    },
    {
      "cell_type": "markdown",
      "metadata": {
        "id": "mmSCiueNNcic",
        "colab_type": "text"
      },
      "source": [
        "# Task 2\n"
      ]
    },
    {
      "cell_type": "code",
      "metadata": {
        "id": "RzAMVS32NeB3",
        "colab_type": "code",
        "colab": {
          "base_uri": "https://localhost:8080/",
          "height": 34
        },
        "outputId": "52ead29d-4bc7-4479-f467-f41bcd49de83"
      },
      "source": [
        "# Task 2.1\n",
        "random_number=[1,23,54,67,7,90,45,2,12,45,56,78,89,34,65,89,32,23]\n",
        "for i in random_number:\n",
        "  print(i ,end=\" \")"
      ],
      "execution_count": 4,
      "outputs": [
        {
          "output_type": "stream",
          "text": [
            "1 23 54 67 7 90 45 2 12 45 56 78 89 34 65 89 32 23 "
          ],
          "name": "stdout"
        }
      ]
    },
    {
      "cell_type": "code",
      "metadata": {
        "id": "UWh9K7nQNgr7",
        "colab_type": "code",
        "colab": {
          "base_uri": "https://localhost:8080/",
          "height": 34
        },
        "outputId": "f78fdd2b-22b9-48ba-b97b-b4797baa2c87"
      },
      "source": [
        "\n",
        "# Task 2.2\n",
        "print(\"Even Numbers are :\", end=\" \")\n",
        "for i in random_number:\n",
        "  if(i%2==0):\n",
        "    print(i,end=\" \")"
      ],
      "execution_count": 5,
      "outputs": [
        {
          "output_type": "stream",
          "text": [
            "Even Numbers are : 54 90 2 12 56 78 34 32 "
          ],
          "name": "stdout"
        }
      ]
    },
    {
      "cell_type": "code",
      "metadata": {
        "id": "JghwzdoXPB-R",
        "colab_type": "code",
        "colab": {
          "base_uri": "https://localhost:8080/",
          "height": 85
        },
        "outputId": "8d7890a8-c4d2-4eac-943f-8c43237dcb55"
      },
      "source": [
        "# Task 2.3\n",
        "\n",
        "myself= {\"name\":\"Arshad\",\"age\":24,\"gender\":\"male\",\"favourite food\":\"Biryani\"}\n",
        "for i in myself.keys():\n",
        "  print(i)\n",
        " "
      ],
      "execution_count": 6,
      "outputs": [
        {
          "output_type": "stream",
          "text": [
            "name\n",
            "age\n",
            "gender\n",
            "favourite food\n"
          ],
          "name": "stdout"
        }
      ]
    },
    {
      "cell_type": "code",
      "metadata": {
        "id": "d7c9PgrLQFIV",
        "colab_type": "code",
        "colab": {
          "base_uri": "https://localhost:8080/",
          "height": 85
        },
        "outputId": "b7cf9508-120a-41a2-b29b-70eda6668275"
      },
      "source": [
        "# Task 2.4\n",
        "for i in myself.values():\n",
        "  print(i)"
      ],
      "execution_count": 7,
      "outputs": [
        {
          "output_type": "stream",
          "text": [
            "Arshad\n",
            "24\n",
            "male\n",
            "Biryani\n"
          ],
          "name": "stdout"
        }
      ]
    },
    {
      "cell_type": "markdown",
      "metadata": {
        "id": "QkHHVYCOWISZ",
        "colab_type": "text"
      },
      "source": [
        "# Task 3"
      ]
    },
    {
      "cell_type": "code",
      "metadata": {
        "id": "5PaHlIoVV-c0",
        "colab_type": "code",
        "colab": {
          "base_uri": "https://localhost:8080/",
          "height": 34
        },
        "outputId": "a5ad8fc4-c298-4e31-beb3-f3876374c150"
      },
      "source": [
        "# Task 3.1 --> METHODS\n",
        "\n",
        "def Info(name):\n",
        "  print(\"Name :\",name)\n",
        "Info(\"Arshad\")"
      ],
      "execution_count": 8,
      "outputs": [
        {
          "output_type": "stream",
          "text": [
            "Name : Arshad\n"
          ],
          "name": "stdout"
        }
      ]
    },
    {
      "cell_type": "code",
      "metadata": {
        "id": "K25-09GMWYvK",
        "colab_type": "code",
        "colab": {
          "base_uri": "https://localhost:8080/",
          "height": 34
        },
        "outputId": "de40c0a2-6a0e-4d55-f948-b1a457375d4f"
      },
      "source": [
        "# Task 3.2\n",
        "\n",
        "def Dict(information):\n",
        " print(information.keys())\n",
        "\n",
        "Dict(myself)"
      ],
      "execution_count": 9,
      "outputs": [
        {
          "output_type": "stream",
          "text": [
            "dict_keys(['name', 'age', 'gender', 'favourite food'])\n"
          ],
          "name": "stdout"
        }
      ]
    },
    {
      "cell_type": "code",
      "metadata": {
        "id": "cxz37J93XPeN",
        "colab_type": "code",
        "colab": {
          "base_uri": "https://localhost:8080/",
          "height": 34
        },
        "outputId": "51775ac5-bc73-445a-94cb-9eec89d90c08"
      },
      "source": [
        "# Task 3.3\n",
        "print (\"The ODD Numbers are \" , end=\" \")\n",
        "def Odd_nos(numbers):\n",
        " for i in numbers:\n",
        "  if(i%2!=0):\n",
        "    print(i,end=\" \")\n",
        "\n",
        "Odd_nos(random_number[:10])\n"
      ],
      "execution_count": 10,
      "outputs": [
        {
          "output_type": "stream",
          "text": [
            "The ODD Numbers are  1 23 67 7 45 45 "
          ],
          "name": "stdout"
        }
      ]
    },
    {
      "cell_type": "markdown",
      "metadata": {
        "id": "I0p6HPIbZJxc",
        "colab_type": "text"
      },
      "source": [
        "# Task 4 -- Type Conversion\n"
      ]
    },
    {
      "cell_type": "code",
      "metadata": {
        "id": "tZNde-3rYSR2",
        "colab_type": "code",
        "colab": {
          "base_uri": "https://localhost:8080/",
          "height": 85
        },
        "outputId": "e906249d-a5fc-4782-9399-56591166b034"
      },
      "source": [
        "# Task 4.1\n",
        "name=\"Arshad\"\n",
        "pi=3.14\n",
        "roll_no=1\n",
        "Happy = True\n",
        "\n",
        "# interger to float\n",
        "print(\"Type of name\",type(name),\"\\nType of pi \",type(pi),\"\\nType of roll_no\",type(roll_no),\"\\nType of Happy\",type(Happy))\n",
        "#print(type())"
      ],
      "execution_count": 11,
      "outputs": [
        {
          "output_type": "stream",
          "text": [
            "Type of name <class 'str'> \n",
            "Type of pi  <class 'float'> \n",
            "Type of roll_no <class 'int'> \n",
            "Type of Happy <class 'bool'>\n"
          ],
          "name": "stdout"
        }
      ]
    },
    {
      "cell_type": "code",
      "metadata": {
        "id": "64EDtaK1Z_pu",
        "colab_type": "code",
        "colab": {
          "base_uri": "https://localhost:8080/",
          "height": 85
        },
        "outputId": "4f8462f2-e4fa-497a-f32c-6c16103b8471"
      },
      "source": [
        "# Conversion \n",
        "\n",
        "#interger to String\n",
        "\n",
        "roll_no=str(roll_no)\n",
        "print(type(roll_no))\n",
        "\n",
        "#bool to string\n",
        "Happy=str(Happy)\n",
        "print(type(Happy))\n",
        "\n",
        "#Integer to float\n",
        "\n",
        "roll_no=float(roll_no)\n",
        "print(type(roll_no))\n",
        "\n",
        "#!pip install word2number\n",
        "\n",
        "from word2number import w2n\n",
        "w2n.word_to_num(\"sixty nine\")  #  This library converts String into Number \n"
      ],
      "execution_count": 17,
      "outputs": [
        {
          "output_type": "stream",
          "text": [
            "<class 'str'>\n",
            "<class 'str'>\n",
            "<class 'float'>\n"
          ],
          "name": "stdout"
        },
        {
          "output_type": "execute_result",
          "data": {
            "text/plain": [
              "69"
            ]
          },
          "metadata": {
            "tags": []
          },
          "execution_count": 17
        }
      ]
    },
    {
      "cell_type": "markdown",
      "metadata": {
        "id": "1bYW_04eiR2O",
        "colab_type": "text"
      },
      "source": [
        "# Task 5\n"
      ]
    },
    {
      "cell_type": "code",
      "metadata": {
        "id": "sA3IxyyfeMuG",
        "colab_type": "code",
        "colab": {}
      },
      "source": [
        "from sklearn.ensemble import RandomForestClassifier\n",
        "from sklearn.naive_bayes import GaussianNB\n",
        "from sklearn.tree import DecisionTreeClassifier,DecisionTreeRegressor\n",
        "from sklearn.linear_model import LinearRegression\n",
        "from sklearn.cluster import KMeans\n",
        "from sklearn.model_selection import train_test_split\n",
        "from sklearn.metrics import classification_report\n",
        "from sklearn.metrics import accuracy_score\n"
      ],
      "execution_count": 0,
      "outputs": []
    },
    {
      "cell_type": "code",
      "metadata": {
        "id": "IZH_szhZi1ND",
        "colab_type": "code",
        "colab": {}
      },
      "source": [
        ""
      ],
      "execution_count": 0,
      "outputs": []
    }
  ]
}