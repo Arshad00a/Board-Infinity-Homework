{
  "nbformat": 4,
  "nbformat_minor": 0,
  "metadata": {
    "colab": {
      "name": "my second notebook.ipynb",
      "provenance": [],
      "authorship_tag": "ABX9TyNQmx2zrRdQ9rCN+rlz1Gxn",
      "include_colab_link": true
    },
    "kernelspec": {
      "name": "python3",
      "display_name": "Python 3"
    },
    "accelerator": "GPU"
  },
  "cells": [
    {
      "cell_type": "markdown",
      "metadata": {
        "id": "view-in-github",
        "colab_type": "text"
      },
      "source": [
        "<a href=\"https://colab.research.google.com/github/Arshad00a/Board-Infinity-Homework/blob/master/my_second_notebook.ipynb\" target=\"_parent\"><img src=\"https://colab.research.google.com/assets/colab-badge.svg\" alt=\"Open In Colab\"/></a>"
      ]
    },
    {
      "cell_type": "code",
      "metadata": {
        "id": "EihoBnvMoZNF",
        "colab_type": "code",
        "colab": {}
      },
      "source": [
        ""
      ],
      "execution_count": 0,
      "outputs": []
    },
    {
      "cell_type": "markdown",
      "metadata": {
        "id": "s7pSG4dholHb",
        "colab_type": "text"
      },
      "source": [
        "Hi, This is Arshad Ansari residing in Ghatkopar west. I have done Electronics Engineering 2018 passout. Now currently i am working as an Software Assocaite in Allied Digital services from past 1 year.I have also done Embedded System course and i have made a project called Smart-Parking, Smart-Lighting system using raspberry pi and esp32 as a controller and c and python as programming language.\n",
        "\n"
      ]
    },
    {
      "cell_type": "code",
      "metadata": {
        "id": "OZFphn9Bo1Er",
        "colab_type": "code",
        "colab": {}
      },
      "source": [
        ""
      ],
      "execution_count": 0,
      "outputs": []
    },
    {
      "cell_type": "markdown",
      "metadata": {
        "id": "Vd5p121spgZW",
        "colab_type": "text"
      },
      "source": [
        "My Objective of doing this course is to get a good salary job in machine leaning."
      ]
    },
    {
      "cell_type": "code",
      "metadata": {
        "id": "b_5Co6MjqSlu",
        "colab_type": "code",
        "colab": {
          "base_uri": "https://localhost:8080/",
          "height": 68
        },
        "outputId": "d701bfb8-d6ad-42b8-e655-8ebe7b027b95"
      },
      "source": [
        "# Make 3 String variable with your first-name, Last-name and city-name\n",
        "FirstName = \"Arshad\"\n",
        "LastName = \"Ansari\"\n",
        "CityName = \"Mumbai\"\n",
        "Age = 23\n",
        "Height = 5.9\n",
        "_10Percentage = 79.82\n",
        "_12Percentage = 60\n",
        "favourite_numbers = [0,5.5,10,15.5,20,25.5]\n",
        "my_friends = [\"Arshad\",\"Arshad_1\",\"Arshad_2\",\"Arshad_3\",'Arshad_4']\n",
        "print (\"Name of First-Friend is = \",my_friends[0])\n",
        "print(\"Favourite number from the list = \",favourite_numbers[2])\n",
        "myself = {\"date of birth = \":5-7-1996,\"favourite_color\":\"Black\",\"age\":23,\"gender\":\"Male\",\"Name\":\"Arshad Ansari\",\"favourite song\":\"Oo Womaniya\"}\n",
        "print(\"name and gender = \",myself['Name'],myself[\"gender\"])\n",
        "myself.update({'Vegetarian':False})\n"
      ],
      "execution_count": 20,
      "outputs": [
        {
          "output_type": "stream",
          "text": [
            "Name of First-Friend is =  Arshad\n",
            "Favourite number from the list =  10\n",
            "name and gender =  Arshad Ansari Male\n"
          ],
          "name": "stdout"
        }
      ]
    },
    {
      "cell_type": "code",
      "metadata": {
        "id": "xpEUicbmq0KH",
        "colab_type": "code",
        "colab": {}
      },
      "source": [
        ""
      ],
      "execution_count": 0,
      "outputs": []
    }
  ]
}